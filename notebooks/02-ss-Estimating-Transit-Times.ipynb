{
 "cells": [
  {
   "cell_type": "markdown",
   "metadata": {},
   "source": [
    "### Todo:\n",
    "- function to get arrival time for upcoming week in decimal days from arrivalTime object \n",
    "    - Currently this will break if used in a different time zone\n",
    "- Reverse Geocode, regeocode location information?\n",
    "    - Currently if a point is in a body of water, it is ignored. Maybe I should just get the closest land point"
   ]
  },
  {
   "cell_type": "markdown",
   "metadata": {},
   "source": [
    "# Estimating Transit Times\n",
    "## Written by Stephen Scherrer on 6 April 2020\n",
    "\n",
    "The following notebook queries google's transit API and returns the estimated transit time for each address to the point of interest."
   ]
  },
  {
   "cell_type": "code",
   "execution_count": 23,
   "metadata": {
    "ExecuteTime": {
     "end_time": "2020-04-17T22:29:34.088348Z",
     "start_time": "2020-04-17T22:29:34.084850Z"
    }
   },
   "outputs": [],
   "source": [
    "import pandas as pd\n",
    "import os\n",
    "import time\n",
    "from dotenv import load_dotenv, find_dotenv\n",
    "import requests\n",
    "import google.transit.gtfs_realtime_pb2 as gtfs_realtime_pb2\n",
    "import requests\n",
    "import simplejson\n",
    "import urllib.parse \n",
    "import urllib.request\n",
    "import datetime\n",
    "\n"
   ]
  },
  {
   "cell_type": "code",
   "execution_count": 24,
   "metadata": {
    "ExecuteTime": {
     "end_time": "2020-04-17T22:29:34.348225Z",
     "start_time": "2020-04-17T22:29:34.342756Z"
    }
   },
   "outputs": [],
   "source": [
    "#### Workspace Setup\n",
    "## Establish Directory Heirarchy\n",
    "projDir = os.path.dirname(os.getcwd())\n",
    "dataDir = os.path.join(projDir, 'Data')\n",
    "\n",
    "## Load API keys as environment variables\n",
    "# load_dotenv(os.path.join(projDir, '/API Keys.env'))\n",
    "googleApiKey = pd.read_csv('/Users/stephenscherrer/Desktop/API Keys.csv', header = None).loc[0,1]\n",
    "# print(googleApiKey)"
   ]
  },
  {
   "cell_type": "code",
   "execution_count": 25,
   "metadata": {
    "ExecuteTime": {
     "end_time": "2020-04-17T22:29:34.652933Z",
     "start_time": "2020-04-17T22:29:34.647880Z"
    },
    "scrolled": true
   },
   "outputs": [],
   "source": [
    "#### Defining Utility Functions\n",
    "def next_weekday(d, weekday):\n",
    "    ## Get current date as datetime.datetime object\n",
    "    d = datetime.datetime(datetime.datetime.now().year, datetime.datetime.now().month, datetime.datetime.now().day)\n",
    "    ## Find the nearest weekday\n",
    "    days_ahead = weekday - d.weekday()\n",
    "    ## If today isn't that weekday\n",
    "    if days_ahead <= 0: # Target day already happened this week\n",
    "        days_ahead += 7\n",
    "    ## Get epoch time for start of selected next weekday\n",
    "    nextWkDay = int((d + datetime.timedelta(days_ahead)).strftime('%s'))\n",
    "    ## Add the arrival time (specified as hours past gmt)\n",
    "    nextWkDay += arrivalTime * 60 * 60\n",
    "    return (nextWkDay)\n"
   ]
  },
  {
   "cell_type": "code",
   "execution_count": 26,
   "metadata": {
    "ExecuteTime": {
     "end_time": "2020-04-17T22:29:34.920471Z",
     "start_time": "2020-04-17T22:29:34.917506Z"
    }
   },
   "outputs": [],
   "source": [
    "#### Defining global parameters\n",
    "### Destination Address\n",
    "destCoord = [37.7911, -122.3961] # array[Lat, Lon] in Decimal Degrees\n",
    "arrivalTime = 10 # float hours in local time of computer. Specifies the desired time of arrival for transit directions\n",
    "trafficModel = 'best_guess' # valid options include 'best_guess', 'pessimistic', 'optomistic'. See traffic_model in https://developers.google.com/maps/documentation/directions/intro#TravelModes"
   ]
  },
  {
   "cell_type": "code",
   "execution_count": 27,
   "metadata": {
    "ExecuteTime": {
     "end_time": "2020-04-17T22:29:35.207093Z",
     "start_time": "2020-04-17T22:29:35.198113Z"
    }
   },
   "outputs": [],
   "source": [
    "#### Loading Data\n",
    "latLonDF = pd.read_csv(os.path.join(dataDir, 'interim/lat_lon_address_grid.csv'), index_col = 0)\n",
    "latLonDF['cost'] = np.nan\n",
    "latLonDF['time'] = np.nan"
   ]
  },
  {
   "cell_type": "code",
   "execution_count": 28,
   "metadata": {
    "ExecuteTime": {
     "end_time": "2020-04-17T23:03:46.367549Z",
     "start_time": "2020-04-17T22:29:35.491653Z"
    }
   },
   "outputs": [],
   "source": [
    "### Requesting Transit Info from Google's API\n",
    "## Only get details when those details are missing\n",
    "# np.where(np.isnan(latLonDF.))\n",
    "\n",
    "for i in range(len(latLonDF['lat'])):\n",
    "    ## Specifying API call parameters\n",
    "    origin = 'origin=' + str(round(latLonDF.loc[i, 'lat'], 5)) + ',' + str(round(latLonDF.loc[i, 'lon'], 5))\n",
    "    destination = '&destination=' + str(round(destCoord[0], 5)) + ',' + str(round(destCoord[1], 5))\n",
    "    key = '&key=' + googleApiKey\n",
    "    mode = '&mode=' + 'transit'\n",
    "    arrival_time =  '&arrival_time=' + str(next_weekday(datetime.datetime.now(), 0)) # 0 = Monday, 1 = Tuesday, 2 = Wednesday...6 = Sunday\n",
    "    traffic_model = '&traffic_model=' + str(trafficModel)\n",
    "\n",
    "    ## Writing API Call URL\n",
    "    parameters = origin + destination + mode + traffic_model + arrival_time\n",
    "    url = 'https://maps.googleapis.com/maps/api/directions/json?' + parameters + key\n",
    "    \n",
    "    ## Get transit cost and time for a given location\n",
    "    results = simplejson.load(urllib.request.urlopen(url))\n",
    "    if(len(results['routes']) > 0):\n",
    "        ## Get transit cost (Note if whole thing was a walk, then there is no cost so there is no 'fair' in the route)\n",
    "        try:\n",
    "            latLonDF.loc[i, 'cost'] = results['routes'][0]['fare']['value'] # in dolars\n",
    "        except:\n",
    "            None\n",
    "        latLonDF.loc[i, 'time'] = results['routes'][0]['legs'][0]['duration']['value'] / 60 # in minutes"
   ]
  },
  {
   "cell_type": "code",
   "execution_count": 29,
   "metadata": {
    "ExecuteTime": {
     "end_time": "2020-04-17T23:03:46.399309Z",
     "start_time": "2020-04-17T23:03:46.392395Z"
    }
   },
   "outputs": [
    {
     "name": "stdout",
     "output_type": "stream",
     "text": [
      "            lat         lon                address  cost        time\n",
      "0     37.656933 -122.530267         California, us   NaN         NaN\n",
      "1     37.656933 -122.524304         California, us   NaN         NaN\n",
      "2     37.656933 -122.518341         California, us   NaN         NaN\n",
      "3     37.656933 -122.512378  California, 94015, us   NaN         NaN\n",
      "4     37.656933 -122.506415  California, 94015, us  5.25   85.033333\n",
      "...         ...         ...                    ...   ...         ...\n",
      "2204  37.925267 -122.285785                    NaN   NaN   86.100000\n",
      "2205  37.925267 -122.279822                    NaN   NaN  124.583333\n",
      "2206  37.925267 -122.273859                    NaN   NaN         NaN\n",
      "2207  37.925267 -122.267896                    NaN   NaN         NaN\n",
      "2208  37.925267 -122.261933                    NaN   NaN         NaN\n",
      "\n",
      "[2209 rows x 5 columns]\n",
      "(2209, 5)\n"
     ]
    }
   ],
   "source": [
    "print(latLonDF)\n",
    "print(latLonDF.shape)"
   ]
  },
  {
   "cell_type": "code",
   "execution_count": 30,
   "metadata": {
    "ExecuteTime": {
     "end_time": "2020-04-17T23:03:46.437994Z",
     "start_time": "2020-04-17T23:03:46.420907Z"
    }
   },
   "outputs": [],
   "source": [
    "### Save dataframe as intermediate Data\n",
    "latLonDF.to_csv(os.path.join(dataDir, 'interim/lat_lon_cost_time.csv'))"
   ]
  },
  {
   "cell_type": "code",
   "execution_count": null,
   "metadata": {},
   "outputs": [],
   "source": []
  }
 ],
 "metadata": {
  "kernelspec": {
   "display_name": "Python 3",
   "language": "python",
   "name": "python3"
  },
  "language_info": {
   "codemirror_mode": {
    "name": "ipython",
    "version": 3
   },
   "file_extension": ".py",
   "mimetype": "text/x-python",
   "name": "python",
   "nbconvert_exporter": "python",
   "pygments_lexer": "ipython3",
   "version": "3.7.1"
  },
  "toc": {
   "base_numbering": 1,
   "nav_menu": {},
   "number_sections": true,
   "sideBar": true,
   "skip_h1_title": false,
   "title_cell": "Table of Contents",
   "title_sidebar": "Contents",
   "toc_cell": false,
   "toc_position": {},
   "toc_section_display": true,
   "toc_window_display": false
  },
  "varInspector": {
   "cols": {
    "lenName": 16,
    "lenType": 16,
    "lenVar": 40
   },
   "kernels_config": {
    "python": {
     "delete_cmd_postfix": "",
     "delete_cmd_prefix": "del ",
     "library": "var_list.py",
     "varRefreshCmd": "print(var_dic_list())"
    },
    "r": {
     "delete_cmd_postfix": ") ",
     "delete_cmd_prefix": "rm(",
     "library": "var_list.r",
     "varRefreshCmd": "cat(var_dic_list()) "
    }
   },
   "types_to_exclude": [
    "module",
    "function",
    "builtin_function_or_method",
    "instance",
    "_Feature"
   ],
   "window_display": false
  }
 },
 "nbformat": 4,
 "nbformat_minor": 2
}
